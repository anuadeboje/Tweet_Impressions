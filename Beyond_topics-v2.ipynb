{
 "cells": [
  {
   "cell_type": "code",
   "execution_count": 187,
   "metadata": {
    "scrolled": true
   },
   "outputs": [
    {
     "name": "stderr",
     "output_type": "stream",
     "text": [
      "[nltk_data] Downloading package punkt to /Users/Anu/nltk_data...\n",
      "[nltk_data]   Package punkt is already up-to-date!\n"
     ]
    },
    {
     "data": {
      "text/plain": [
       "True"
      ]
     },
     "execution_count": 187,
     "metadata": {},
     "output_type": "execute_result"
    }
   ],
   "source": [
    "# Import Libraries\n",
    "from textblob import TextBlob\n",
    "import sys\n",
    "import tweepy\n",
    "import matplotlib.pyplot as plt\n",
    "import pandas as pd\n",
    "import numpy as np\n",
    "import os\n",
    "import nltk\n",
    "import re\n",
    "import string\n",
    "from PIL import Image\n",
    "from nltk.sentiment.vader import SentimentIntensityAnalyzer\n",
    "from nltk.stem import SnowballStemmer\n",
    "from nltk.sentiment.vader import SentimentIntensityAnalyzer\n",
    "from sklearn.feature_extraction.text import CountVectorizer\n",
    "#nltk.download('vader_lexicon')\n",
    "pd.set_option('display.max_colwidth', None)\n",
    "import spacy \n",
    "from nltk.tokenize import MWETokenizer, word_tokenize\n",
    "nltk.download('punkt')"
   ]
  },
  {
   "cell_type": "code",
   "execution_count": 188,
   "metadata": {
    "scrolled": true
   },
   "outputs": [],
   "source": [
    "nlp= spacy.load('en_core_web_sm')\n"
   ]
  },
  {
   "cell_type": "code",
   "execution_count": 189,
   "metadata": {},
   "outputs": [],
   "source": [
    "from spacy import displacy"
   ]
  },
  {
   "cell_type": "code",
   "execution_count": 7,
   "metadata": {},
   "outputs": [],
   "source": [
    "#Import all tweets with their positive, negative, and neutral ratings \n",
    "tots_twts_sents= pd.read_csv(\"sentiment_tweets_cln.csv\")\n"
   ]
  },
  {
   "cell_type": "code",
   "execution_count": 9,
   "metadata": {},
   "outputs": [],
   "source": [
    "tots_twts_sents['new_text'] = tots_twts_sents['new_text'].apply(lambda x: x.replace('Beyond Meat','BYND'))\n",
    "tots_twts_sents['new_text'] = tots_twts_sents['new_text'].apply(lambda x: x.replace('beyond meat','BYND'))\n",
    "tots_twts_sents['new_text'] = tots_twts_sents['new_text'].apply(lambda x: x.replace('Beyond meat','BYND'))\n",
    "tots_twts_sents['new_text'] = tots_twts_sents['new_text'].apply(lambda x: x.replace('Beyond','BYND'))\n",
    "tots_twts_sents['new_text'] = tots_twts_sents['new_text'].apply(lambda x: x.replace('beyond','BYND'))                                                                \n",
    "                                                               \n"
   ]
  },
  {
   "cell_type": "code",
   "execution_count": 10,
   "metadata": {},
   "outputs": [],
   "source": [
    "#lets remove the urls and punctuation from these tweets before using spacy  \n",
    "remove_url = lambda x: re.sub(r'^https?:\\/\\/.*[\\r\\n]*',\" \",x)\n",
    "rt = lambda x: re.sub(\"(@[A-Za-z0-9]+)|([^0-9A-Za-z \\t])|(\\w+:\\/\\/\\S+)\",\" \",x) \n",
    "tots_twts_sents[\"new_text\"] = tots_twts_sents.new_text.map(remove_url).map(rt)\n",
    "\n"
   ]
  },
  {
   "cell_type": "code",
   "execution_count": 11,
   "metadata": {},
   "outputs": [],
   "source": [
    "from spacy.symbols import amod"
   ]
  },
  {
   "cell_type": "code",
   "execution_count": 27,
   "metadata": {},
   "outputs": [],
   "source": [
    "tots_twts_sents[\"new_text\"] = tots_twts_sents['new_text'].apply(lambda x: x.replace('nuggets','nugget'))\n",
    "tots_twts_sents[\"new_text\"] = tots_twts_sents['new_text'].apply(lambda x: x.replace('Nuggets','nugget'))\n",
    "tots_twts_sents[\"new_text\"] = tots_twts_sents['new_text'].apply(lambda x: x.replace('Nugget','nugget'))\n",
    "\n"
   ]
  },
  {
   "cell_type": "code",
   "execution_count": 28,
   "metadata": {},
   "outputs": [],
   "source": [
    "#Lets use spacy to pre process text for the countvectorizer and tfid \n",
    "#we should define Beyond Meat as an entity\n",
    "\n",
    "\n",
    "\n"
   ]
  },
  {
   "cell_type": "code",
   "execution_count": 29,
   "metadata": {},
   "outputs": [],
   "source": [
    "#Lets clean the piped spacy_doc\n",
    "docs_clean = [[w.lemma_.lower() for w in doc if (not w.is_stop and not w.is_punct and not w.like_num) \\\n",
    "               or (w.lemma_=='not')] for doc in cln_docs]\n",
    "tots_twts_sents['docs_clean'] = docs_clean\n"
   ]
  },
  {
   "cell_type": "code",
   "execution_count": 150,
   "metadata": {
    "scrolled": true
   },
   "outputs": [],
   "source": [
    "tots_twts_sents.to_csv('corex_tweets.csv', index=False)"
   ]
  },
  {
   "cell_type": "code",
   "execution_count": 134,
   "metadata": {},
   "outputs": [],
   "source": [
    "#First we will use TFID with lsa, then cv with nmf\n",
    "from sklearn.feature_extraction.text import CountVectorizer, TfidfVectorizer\n",
    "\n",
    "tfid = TfidfVectorizer(stop_words='english', max_df=0.7, min_df= .02)\n",
    "X = tfid.fit_transform(docs_list_clean)\n",
    "df_X = pd.DataFrame(X.toarray(), columns=tfid.get_feature_names())\n"
   ]
  },
  {
   "cell_type": "code",
   "execution_count": 135,
   "metadata": {},
   "outputs": [
    {
     "data": {
      "text/html": [
       "<div>\n",
       "<style scoped>\n",
       "    .dataframe tbody tr th:only-of-type {\n",
       "        vertical-align: middle;\n",
       "    }\n",
       "\n",
       "    .dataframe tbody tr th {\n",
       "        vertical-align: top;\n",
       "    }\n",
       "\n",
       "    .dataframe thead th {\n",
       "        text-align: right;\n",
       "    }\n",
       "</style>\n",
       "<table border=\"1\" class=\"dataframe\">\n",
       "  <thead>\n",
       "    <tr style=\"text-align: right;\">\n",
       "      <th></th>\n",
       "      <th>actually</th>\n",
       "      <th>amp</th>\n",
       "      <th>bad</th>\n",
       "      <th>base</th>\n",
       "      <th>burger</th>\n",
       "      <th>chicken</th>\n",
       "      <th>don</th>\n",
       "      <th>eat</th>\n",
       "      <th>food</th>\n",
       "      <th>fried</th>\n",
       "      <th>...</th>\n",
       "      <th>rt</th>\n",
       "      <th>shit</th>\n",
       "      <th>taste</th>\n",
       "      <th>think</th>\n",
       "      <th>try</th>\n",
       "      <th>ve</th>\n",
       "      <th>vegan</th>\n",
       "      <th>vegetarian</th>\n",
       "      <th>venture</th>\n",
       "      <th>want</th>\n",
       "    </tr>\n",
       "  </thead>\n",
       "  <tbody>\n",
       "    <tr>\n",
       "      <th>0</th>\n",
       "      <td>0.0</td>\n",
       "      <td>0.0</td>\n",
       "      <td>0.0</td>\n",
       "      <td>0.000000</td>\n",
       "      <td>0.0</td>\n",
       "      <td>0.000000</td>\n",
       "      <td>0.0</td>\n",
       "      <td>0.000000</td>\n",
       "      <td>0.000000</td>\n",
       "      <td>0.354506</td>\n",
       "      <td>...</td>\n",
       "      <td>0.000000</td>\n",
       "      <td>0.000000</td>\n",
       "      <td>0.000000</td>\n",
       "      <td>0.0</td>\n",
       "      <td>0.000000</td>\n",
       "      <td>0.000000</td>\n",
       "      <td>0.000000</td>\n",
       "      <td>0.0</td>\n",
       "      <td>0.0</td>\n",
       "      <td>0.0</td>\n",
       "    </tr>\n",
       "    <tr>\n",
       "      <th>1</th>\n",
       "      <td>0.0</td>\n",
       "      <td>0.0</td>\n",
       "      <td>0.0</td>\n",
       "      <td>0.000000</td>\n",
       "      <td>0.0</td>\n",
       "      <td>0.250244</td>\n",
       "      <td>0.0</td>\n",
       "      <td>0.525196</td>\n",
       "      <td>0.000000</td>\n",
       "      <td>0.000000</td>\n",
       "      <td>...</td>\n",
       "      <td>0.000000</td>\n",
       "      <td>0.000000</td>\n",
       "      <td>0.000000</td>\n",
       "      <td>0.0</td>\n",
       "      <td>0.000000</td>\n",
       "      <td>0.000000</td>\n",
       "      <td>0.000000</td>\n",
       "      <td>0.0</td>\n",
       "      <td>0.0</td>\n",
       "      <td>0.0</td>\n",
       "    </tr>\n",
       "    <tr>\n",
       "      <th>2</th>\n",
       "      <td>0.0</td>\n",
       "      <td>0.0</td>\n",
       "      <td>0.0</td>\n",
       "      <td>0.628263</td>\n",
       "      <td>0.0</td>\n",
       "      <td>0.347821</td>\n",
       "      <td>0.0</td>\n",
       "      <td>0.000000</td>\n",
       "      <td>0.000000</td>\n",
       "      <td>0.000000</td>\n",
       "      <td>...</td>\n",
       "      <td>0.000000</td>\n",
       "      <td>0.000000</td>\n",
       "      <td>0.000000</td>\n",
       "      <td>0.0</td>\n",
       "      <td>0.000000</td>\n",
       "      <td>0.000000</td>\n",
       "      <td>0.000000</td>\n",
       "      <td>0.0</td>\n",
       "      <td>0.0</td>\n",
       "      <td>0.0</td>\n",
       "    </tr>\n",
       "    <tr>\n",
       "      <th>3</th>\n",
       "      <td>0.0</td>\n",
       "      <td>0.0</td>\n",
       "      <td>0.0</td>\n",
       "      <td>0.000000</td>\n",
       "      <td>0.0</td>\n",
       "      <td>0.000000</td>\n",
       "      <td>0.0</td>\n",
       "      <td>0.000000</td>\n",
       "      <td>0.406319</td>\n",
       "      <td>0.000000</td>\n",
       "      <td>...</td>\n",
       "      <td>0.000000</td>\n",
       "      <td>0.000000</td>\n",
       "      <td>0.380405</td>\n",
       "      <td>0.0</td>\n",
       "      <td>0.000000</td>\n",
       "      <td>0.000000</td>\n",
       "      <td>0.000000</td>\n",
       "      <td>0.0</td>\n",
       "      <td>0.0</td>\n",
       "      <td>0.0</td>\n",
       "    </tr>\n",
       "    <tr>\n",
       "      <th>4</th>\n",
       "      <td>0.0</td>\n",
       "      <td>0.0</td>\n",
       "      <td>0.0</td>\n",
       "      <td>0.000000</td>\n",
       "      <td>0.0</td>\n",
       "      <td>0.000000</td>\n",
       "      <td>0.0</td>\n",
       "      <td>0.000000</td>\n",
       "      <td>0.000000</td>\n",
       "      <td>0.868774</td>\n",
       "      <td>...</td>\n",
       "      <td>0.000000</td>\n",
       "      <td>0.000000</td>\n",
       "      <td>0.000000</td>\n",
       "      <td>0.0</td>\n",
       "      <td>0.000000</td>\n",
       "      <td>0.000000</td>\n",
       "      <td>0.000000</td>\n",
       "      <td>0.0</td>\n",
       "      <td>0.0</td>\n",
       "      <td>0.0</td>\n",
       "    </tr>\n",
       "    <tr>\n",
       "      <th>5</th>\n",
       "      <td>0.0</td>\n",
       "      <td>0.0</td>\n",
       "      <td>0.0</td>\n",
       "      <td>0.000000</td>\n",
       "      <td>0.0</td>\n",
       "      <td>0.000000</td>\n",
       "      <td>0.0</td>\n",
       "      <td>0.000000</td>\n",
       "      <td>0.000000</td>\n",
       "      <td>0.000000</td>\n",
       "      <td>...</td>\n",
       "      <td>0.000000</td>\n",
       "      <td>0.728102</td>\n",
       "      <td>0.000000</td>\n",
       "      <td>0.0</td>\n",
       "      <td>0.000000</td>\n",
       "      <td>0.000000</td>\n",
       "      <td>0.000000</td>\n",
       "      <td>0.0</td>\n",
       "      <td>0.0</td>\n",
       "      <td>0.0</td>\n",
       "    </tr>\n",
       "    <tr>\n",
       "      <th>6</th>\n",
       "      <td>0.0</td>\n",
       "      <td>0.0</td>\n",
       "      <td>0.0</td>\n",
       "      <td>0.000000</td>\n",
       "      <td>0.0</td>\n",
       "      <td>0.262974</td>\n",
       "      <td>0.0</td>\n",
       "      <td>0.000000</td>\n",
       "      <td>0.000000</td>\n",
       "      <td>0.000000</td>\n",
       "      <td>...</td>\n",
       "      <td>0.678052</td>\n",
       "      <td>0.000000</td>\n",
       "      <td>0.000000</td>\n",
       "      <td>0.0</td>\n",
       "      <td>0.484756</td>\n",
       "      <td>0.000000</td>\n",
       "      <td>0.000000</td>\n",
       "      <td>0.0</td>\n",
       "      <td>0.0</td>\n",
       "      <td>0.0</td>\n",
       "    </tr>\n",
       "    <tr>\n",
       "      <th>7</th>\n",
       "      <td>0.0</td>\n",
       "      <td>0.0</td>\n",
       "      <td>0.0</td>\n",
       "      <td>0.000000</td>\n",
       "      <td>0.0</td>\n",
       "      <td>0.000000</td>\n",
       "      <td>0.0</td>\n",
       "      <td>0.000000</td>\n",
       "      <td>0.000000</td>\n",
       "      <td>0.000000</td>\n",
       "      <td>...</td>\n",
       "      <td>0.000000</td>\n",
       "      <td>0.000000</td>\n",
       "      <td>0.000000</td>\n",
       "      <td>0.0</td>\n",
       "      <td>0.502766</td>\n",
       "      <td>0.742933</td>\n",
       "      <td>0.000000</td>\n",
       "      <td>0.0</td>\n",
       "      <td>0.0</td>\n",
       "      <td>0.0</td>\n",
       "    </tr>\n",
       "    <tr>\n",
       "      <th>8</th>\n",
       "      <td>0.0</td>\n",
       "      <td>0.0</td>\n",
       "      <td>0.0</td>\n",
       "      <td>0.000000</td>\n",
       "      <td>0.0</td>\n",
       "      <td>0.696721</td>\n",
       "      <td>0.0</td>\n",
       "      <td>0.000000</td>\n",
       "      <td>0.000000</td>\n",
       "      <td>0.000000</td>\n",
       "      <td>...</td>\n",
       "      <td>0.000000</td>\n",
       "      <td>0.000000</td>\n",
       "      <td>0.000000</td>\n",
       "      <td>0.0</td>\n",
       "      <td>0.000000</td>\n",
       "      <td>0.000000</td>\n",
       "      <td>0.000000</td>\n",
       "      <td>0.0</td>\n",
       "      <td>0.0</td>\n",
       "      <td>0.0</td>\n",
       "    </tr>\n",
       "    <tr>\n",
       "      <th>9</th>\n",
       "      <td>0.0</td>\n",
       "      <td>0.0</td>\n",
       "      <td>0.0</td>\n",
       "      <td>0.000000</td>\n",
       "      <td>0.0</td>\n",
       "      <td>0.000000</td>\n",
       "      <td>0.0</td>\n",
       "      <td>0.000000</td>\n",
       "      <td>0.000000</td>\n",
       "      <td>0.000000</td>\n",
       "      <td>...</td>\n",
       "      <td>0.785519</td>\n",
       "      <td>0.000000</td>\n",
       "      <td>0.000000</td>\n",
       "      <td>0.0</td>\n",
       "      <td>0.000000</td>\n",
       "      <td>0.000000</td>\n",
       "      <td>0.618837</td>\n",
       "      <td>0.0</td>\n",
       "      <td>0.0</td>\n",
       "      <td>0.0</td>\n",
       "    </tr>\n",
       "  </tbody>\n",
       "</table>\n",
       "<p>10 rows × 36 columns</p>\n",
       "</div>"
      ],
      "text/plain": [
       "   actually  amp  bad      base  burger   chicken  don       eat      food  \\\n",
       "0       0.0  0.0  0.0  0.000000     0.0  0.000000  0.0  0.000000  0.000000   \n",
       "1       0.0  0.0  0.0  0.000000     0.0  0.250244  0.0  0.525196  0.000000   \n",
       "2       0.0  0.0  0.0  0.628263     0.0  0.347821  0.0  0.000000  0.000000   \n",
       "3       0.0  0.0  0.0  0.000000     0.0  0.000000  0.0  0.000000  0.406319   \n",
       "4       0.0  0.0  0.0  0.000000     0.0  0.000000  0.0  0.000000  0.000000   \n",
       "5       0.0  0.0  0.0  0.000000     0.0  0.000000  0.0  0.000000  0.000000   \n",
       "6       0.0  0.0  0.0  0.000000     0.0  0.262974  0.0  0.000000  0.000000   \n",
       "7       0.0  0.0  0.0  0.000000     0.0  0.000000  0.0  0.000000  0.000000   \n",
       "8       0.0  0.0  0.0  0.000000     0.0  0.696721  0.0  0.000000  0.000000   \n",
       "9       0.0  0.0  0.0  0.000000     0.0  0.000000  0.0  0.000000  0.000000   \n",
       "\n",
       "      fried  ...        rt      shit     taste  think       try        ve  \\\n",
       "0  0.354506  ...  0.000000  0.000000  0.000000    0.0  0.000000  0.000000   \n",
       "1  0.000000  ...  0.000000  0.000000  0.000000    0.0  0.000000  0.000000   \n",
       "2  0.000000  ...  0.000000  0.000000  0.000000    0.0  0.000000  0.000000   \n",
       "3  0.000000  ...  0.000000  0.000000  0.380405    0.0  0.000000  0.000000   \n",
       "4  0.868774  ...  0.000000  0.000000  0.000000    0.0  0.000000  0.000000   \n",
       "5  0.000000  ...  0.000000  0.728102  0.000000    0.0  0.000000  0.000000   \n",
       "6  0.000000  ...  0.678052  0.000000  0.000000    0.0  0.484756  0.000000   \n",
       "7  0.000000  ...  0.000000  0.000000  0.000000    0.0  0.502766  0.742933   \n",
       "8  0.000000  ...  0.000000  0.000000  0.000000    0.0  0.000000  0.000000   \n",
       "9  0.000000  ...  0.785519  0.000000  0.000000    0.0  0.000000  0.000000   \n",
       "\n",
       "      vegan  vegetarian  venture  want  \n",
       "0  0.000000         0.0      0.0   0.0  \n",
       "1  0.000000         0.0      0.0   0.0  \n",
       "2  0.000000         0.0      0.0   0.0  \n",
       "3  0.000000         0.0      0.0   0.0  \n",
       "4  0.000000         0.0      0.0   0.0  \n",
       "5  0.000000         0.0      0.0   0.0  \n",
       "6  0.000000         0.0      0.0   0.0  \n",
       "7  0.000000         0.0      0.0   0.0  \n",
       "8  0.000000         0.0      0.0   0.0  \n",
       "9  0.618837         0.0      0.0   0.0  \n",
       "\n",
       "[10 rows x 36 columns]"
      ]
     },
     "execution_count": 135,
     "metadata": {},
     "output_type": "execute_result"
    }
   ],
   "source": [
    "df_X.head(10)"
   ]
  },
  {
   "cell_type": "code",
   "execution_count": 123,
   "metadata": {},
   "outputs": [],
   "source": [
    "from sklearn.decomposition import TruncatedSVD, NMF\n"
   ]
  },
  {
   "cell_type": "code",
   "execution_count": 136,
   "metadata": {},
   "outputs": [
    {
     "data": {
      "text/plain": [
       "array([0.05452233, 0.11837765, 0.07908628, 0.07190991])"
      ]
     },
     "execution_count": 136,
     "metadata": {},
     "output_type": "execute_result"
    }
   ],
   "source": [
    "#LSA \n",
    "lsa = TruncatedSVD(4)\n",
    "doc_topic = lsa.fit_transform(X)\n",
    "lsa.explained_variance_ratio_"
   ]
  },
  {
   "cell_type": "code",
   "execution_count": 137,
   "metadata": {},
   "outputs": [],
   "source": [
    "def display_topics(model, feature_names, no_top_words, topic_names=None):\n",
    "    for ix, topic in enumerate(model.components_):\n",
    "        if not topic_names or not topic_names[ix]:\n",
    "            print(\"\\nTopic \", ix)\n",
    "        else:\n",
    "            print(\"\\nTopic: '\",topic_names[ix],\"'\")\n",
    "        print(\", \".join([feature_names[i]\n",
    "                        for i in topic.argsort()[:-no_top_words - 1:-1]]))"
   ]
  },
  {
   "cell_type": "code",
   "execution_count": 138,
   "metadata": {},
   "outputs": [
    {
     "name": "stdout",
     "output_type": "stream",
     "text": [
      "\n",
      "Topic  0\n",
      "chicken, kfc, nugget, fry, fried, try, like, new, eat, vegan, plant, good\n",
      "\n",
      "Topic  1\n",
      "nugget, kfc, try, new, good, bad, actually, vegan, eat, review, taste, don\n",
      "\n",
      "Topic  2\n",
      "plant, base, meat, fried, burger, jerky, pepsico, new, vegan, launch, venture, joint\n",
      "\n",
      "Topic  3\n",
      "fried, kfc, chicken, try, vegan, know, think, rt, food, ve, actually, bad\n"
     ]
    }
   ],
   "source": [
    "display_topics(lsa, tfid.get_feature_names(), 12)"
   ]
  },
  {
   "cell_type": "code",
   "execution_count": 95,
   "metadata": {},
   "outputs": [
    {
     "data": {
      "text/html": [
       "<div>\n",
       "<style scoped>\n",
       "    .dataframe tbody tr th:only-of-type {\n",
       "        vertical-align: middle;\n",
       "    }\n",
       "\n",
       "    .dataframe tbody tr th {\n",
       "        vertical-align: top;\n",
       "    }\n",
       "\n",
       "    .dataframe thead th {\n",
       "        text-align: right;\n",
       "    }\n",
       "</style>\n",
       "<table border=\"1\" class=\"dataframe\">\n",
       "  <thead>\n",
       "    <tr style=\"text-align: right;\">\n",
       "      <th></th>\n",
       "      <th>actually</th>\n",
       "      <th>amp</th>\n",
       "      <th>bad</th>\n",
       "      <th>base</th>\n",
       "      <th>burger</th>\n",
       "      <th>bynd</th>\n",
       "      <th>chicken</th>\n",
       "      <th>don</th>\n",
       "      <th>eat</th>\n",
       "      <th>food</th>\n",
       "      <th>...</th>\n",
       "      <th>rt</th>\n",
       "      <th>shit</th>\n",
       "      <th>taste</th>\n",
       "      <th>think</th>\n",
       "      <th>try</th>\n",
       "      <th>ve</th>\n",
       "      <th>vegan</th>\n",
       "      <th>vegetarian</th>\n",
       "      <th>venture</th>\n",
       "      <th>want</th>\n",
       "    </tr>\n",
       "  </thead>\n",
       "  <tbody>\n",
       "    <tr>\n",
       "      <th>0</th>\n",
       "      <td>0</td>\n",
       "      <td>0</td>\n",
       "      <td>0</td>\n",
       "      <td>0</td>\n",
       "      <td>0</td>\n",
       "      <td>0</td>\n",
       "      <td>0</td>\n",
       "      <td>0</td>\n",
       "      <td>0</td>\n",
       "      <td>0</td>\n",
       "      <td>...</td>\n",
       "      <td>0</td>\n",
       "      <td>0</td>\n",
       "      <td>0</td>\n",
       "      <td>0</td>\n",
       "      <td>0</td>\n",
       "      <td>0</td>\n",
       "      <td>0</td>\n",
       "      <td>0</td>\n",
       "      <td>0</td>\n",
       "      <td>0</td>\n",
       "    </tr>\n",
       "    <tr>\n",
       "      <th>1</th>\n",
       "      <td>0</td>\n",
       "      <td>0</td>\n",
       "      <td>0</td>\n",
       "      <td>0</td>\n",
       "      <td>0</td>\n",
       "      <td>1</td>\n",
       "      <td>1</td>\n",
       "      <td>0</td>\n",
       "      <td>1</td>\n",
       "      <td>0</td>\n",
       "      <td>...</td>\n",
       "      <td>0</td>\n",
       "      <td>0</td>\n",
       "      <td>0</td>\n",
       "      <td>0</td>\n",
       "      <td>0</td>\n",
       "      <td>0</td>\n",
       "      <td>0</td>\n",
       "      <td>0</td>\n",
       "      <td>0</td>\n",
       "      <td>0</td>\n",
       "    </tr>\n",
       "    <tr>\n",
       "      <th>2</th>\n",
       "      <td>0</td>\n",
       "      <td>0</td>\n",
       "      <td>0</td>\n",
       "      <td>1</td>\n",
       "      <td>0</td>\n",
       "      <td>1</td>\n",
       "      <td>1</td>\n",
       "      <td>0</td>\n",
       "      <td>0</td>\n",
       "      <td>0</td>\n",
       "      <td>...</td>\n",
       "      <td>0</td>\n",
       "      <td>0</td>\n",
       "      <td>0</td>\n",
       "      <td>0</td>\n",
       "      <td>0</td>\n",
       "      <td>0</td>\n",
       "      <td>0</td>\n",
       "      <td>0</td>\n",
       "      <td>0</td>\n",
       "      <td>0</td>\n",
       "    </tr>\n",
       "    <tr>\n",
       "      <th>3</th>\n",
       "      <td>0</td>\n",
       "      <td>0</td>\n",
       "      <td>0</td>\n",
       "      <td>0</td>\n",
       "      <td>0</td>\n",
       "      <td>1</td>\n",
       "      <td>0</td>\n",
       "      <td>0</td>\n",
       "      <td>0</td>\n",
       "      <td>1</td>\n",
       "      <td>...</td>\n",
       "      <td>0</td>\n",
       "      <td>0</td>\n",
       "      <td>1</td>\n",
       "      <td>0</td>\n",
       "      <td>0</td>\n",
       "      <td>0</td>\n",
       "      <td>0</td>\n",
       "      <td>0</td>\n",
       "      <td>0</td>\n",
       "      <td>0</td>\n",
       "    </tr>\n",
       "    <tr>\n",
       "      <th>4</th>\n",
       "      <td>0</td>\n",
       "      <td>0</td>\n",
       "      <td>0</td>\n",
       "      <td>0</td>\n",
       "      <td>0</td>\n",
       "      <td>1</td>\n",
       "      <td>0</td>\n",
       "      <td>0</td>\n",
       "      <td>0</td>\n",
       "      <td>0</td>\n",
       "      <td>...</td>\n",
       "      <td>0</td>\n",
       "      <td>0</td>\n",
       "      <td>0</td>\n",
       "      <td>0</td>\n",
       "      <td>0</td>\n",
       "      <td>0</td>\n",
       "      <td>0</td>\n",
       "      <td>0</td>\n",
       "      <td>0</td>\n",
       "      <td>0</td>\n",
       "    </tr>\n",
       "  </tbody>\n",
       "</table>\n",
       "<p>5 rows × 37 columns</p>\n",
       "</div>"
      ],
      "text/plain": [
       "   actually  amp  bad  base  burger  bynd  chicken  don  eat  food  ...  rt  \\\n",
       "0         0    0    0     0       0     0        0    0    0     0  ...   0   \n",
       "1         0    0    0     0       0     1        1    0    1     0  ...   0   \n",
       "2         0    0    0     1       0     1        1    0    0     0  ...   0   \n",
       "3         0    0    0     0       0     1        0    0    0     1  ...   0   \n",
       "4         0    0    0     0       0     1        0    0    0     0  ...   0   \n",
       "\n",
       "   shit  taste  think  try  ve  vegan  vegetarian  venture  want  \n",
       "0     0      0      0    0   0      0           0        0     0  \n",
       "1     0      0      0    0   0      0           0        0     0  \n",
       "2     0      0      0    0   0      0           0        0     0  \n",
       "3     0      1      0    0   0      0           0        0     0  \n",
       "4     0      0      0    0   0      0           0        0     0  \n",
       "\n",
       "[5 rows x 37 columns]"
      ]
     },
     "execution_count": 95,
     "metadata": {},
     "output_type": "execute_result"
    }
   ],
   "source": [
    "#cv with nmf\n",
    "cv_2 = CountVectorizer(stop_words = 'english', min_df = .02)\n",
    "doc_word = cv_2.fit_transform(docs_list_clean)\n",
    "df_x_2 = pd.DataFrame(doc_word.toarray(), columns=cv_2.get_feature_names())\n",
    "df_x_2.head()"
   ]
  },
  {
   "cell_type": "code",
   "execution_count": 96,
   "metadata": {},
   "outputs": [],
   "source": [
    "num_topics = 5\n",
    "topics = NMF(num_topics)\n",
    "doc_topic = topics.fit_transform(df_x_2)"
   ]
  },
  {
   "cell_type": "code",
   "execution_count": 100,
   "metadata": {},
   "outputs": [
    {
     "name": "stdout",
     "output_type": "stream",
     "text": [
      "\n",
      "Topic  0\n",
      "bynd, eat, shit, good, burger, want, don, ve, amp, food, try, impossible\n",
      "\n",
      "Topic  1\n",
      "chicken, fry, fried, like, taste, look, think, vegan, eat, shit, plant, know\n",
      "\n",
      "Topic  2\n",
      "plant, base, pepsico, jerky, launch, joint, venture, meat, burger, new, vegan, food\n",
      "\n",
      "Topic  3\n",
      "kfc, try, vegan, new, meat, fried, rt, review, eat, know, food, think\n",
      "\n",
      "Topic  4\n",
      "nugget, like, good, taste, look, chicken, new, eat, actually, impossible, don, bad\n"
     ]
    }
   ],
   "source": [
    "display_topics(topics, cv_2.get_feature_names(), 12)\n"
   ]
  },
  {
   "cell_type": "code",
   "execution_count": 162,
   "metadata": {},
   "outputs": [],
   "source": [
    "def count_values_in_column(data,feature):\n",
    "    total=data.loc[:,feature].value_counts(dropna=False)\n",
    "    percentage=round(data.loc[:,feature].value_counts(dropna=False,normalize=True)*100,2)\n",
    "    return pd.concat([total,percentage],axis=1,keys=['Total','Percentage'])"
   ]
  },
  {
   "cell_type": "code",
   "execution_count": 105,
   "metadata": {},
   "outputs": [],
   "source": [
    "#Lets try topic modeling on the beyond meat corpus\n",
    "bynd_meat_twt = pd.read_csv(\"2nd_tweets.csv\")"
   ]
  },
  {
   "cell_type": "code",
   "execution_count": 142,
   "metadata": {},
   "outputs": [
    {
     "data": {
      "text/plain": [
       "0       @sushimann83 Had a discussion about this the other night. Nonsensical that plant-based alternatives are always more… https://t.co/OWcghK9ZTb\n",
       "1               Beyond Meat And Impossible Foods Helped Save Nearly 1 Million Animals In The US Last Year - Plant Based News https://t.co/a7i3fH4fz1\n",
       "2                                            As someone who genuinely loves “fake meat” and especially Beyond Burgers… how could they do this to me…\n",
       "3                                                  @bronzechairq656 @HHanoki @Billy_Purcell Beyond Meat says hold my beer... https://t.co/xOvo3IqiOI\n",
       "4       Only decent vegan meat comes from Asian Buddhist places that what they've been doing for centuries. I've tried crap… https://t.co/tkrP274KwA\n",
       "                                                                            ...                                                                     \n",
       "2807                                                 KFC and Beyond Meat executives detail the launch of vegan fried chicken https://t.co/OmaRRA1iK8\n",
       "2808                                       @FoodProfessor \\nWhat the KFC, Beyond Meat plant-based fried chicken tastes like\\nhttps://t.co/m7UYGdiKQe\n",
       "2809     KFC restaurants nationwide will add Beyond Meat’s plant-based chicken to menus, starting Monday for a limited time… https://t.co/WMNcpjERLe\n",
       "2810                                                                          Yes, plant-based meat is better for the planet https://t.co/QvhzI1Da5k\n",
       "2811                                                                                                      @AbroadInJapan Japanese…”beyond meat”….??🙃\n",
       "Name: 0, Length: 2812, dtype: object"
      ]
     },
     "execution_count": 142,
     "metadata": {},
     "output_type": "execute_result"
    }
   ],
   "source": [
    "bynd_meat_twt[\"0\"]"
   ]
  },
  {
   "cell_type": "code",
   "execution_count": 143,
   "metadata": {},
   "outputs": [],
   "source": [
    "bynd_meat_twt[\"0\"] = bynd_meat_twt[\"0\"].apply(lambda x: x.replace('Beyond Meat','BYND'))\n",
    "bynd_meat_twt[\"0\"] = bynd_meat_twt[\"0\"].apply(lambda x: x.replace('beyond meat','BYND'))\n",
    "bynd_meat_twt[\"0\"] = bynd_meat_twt[\"0\"].apply(lambda x: x.replace('Beyond meat','BYND'))\n",
    "#bynd_meat_twt[\"0\"] = bynd_meat_twt[\"0\"].apply(lambda x: x.replace('Beyond','BYND'))\n",
    "#bynd_meat_twt[\"0\"] = bynd_meat_twt[\"0\"].apply(lambda x: x.replace('beyond','BYND'))                                                                \n",
    "                                                               \n"
   ]
  },
  {
   "cell_type": "code",
   "execution_count": 144,
   "metadata": {},
   "outputs": [],
   "source": [
    "#lets remove the urls and punctuation from these tweets before using spacy  \n",
    "remove_url = lambda x: re.sub(r'^https?:\\/\\/.*[\\r\\n]*',\" \",x)\n",
    "rt = lambda x: re.sub(\"(@[A-Za-z0-9]+)|([^0-9A-Za-z \\t])|(\\w+:\\/\\/\\S+)\",\" \",x) \n",
    "bynd_meat_twt[\"0\"] = bynd_meat_twt[\"0\"].map(remove_url).map(rt)\n",
    "\n"
   ]
  },
  {
   "cell_type": "code",
   "execution_count": 145,
   "metadata": {},
   "outputs": [
    {
     "data": {
      "text/html": [
       "<div>\n",
       "<style scoped>\n",
       "    .dataframe tbody tr th:only-of-type {\n",
       "        vertical-align: middle;\n",
       "    }\n",
       "\n",
       "    .dataframe tbody tr th {\n",
       "        vertical-align: top;\n",
       "    }\n",
       "\n",
       "    .dataframe thead th {\n",
       "        text-align: right;\n",
       "    }\n",
       "</style>\n",
       "<table border=\"1\" class=\"dataframe\">\n",
       "  <thead>\n",
       "    <tr style=\"text-align: right;\">\n",
       "      <th></th>\n",
       "      <th>0</th>\n",
       "      <th>spacy_doc</th>\n",
       "    </tr>\n",
       "  </thead>\n",
       "  <tbody>\n",
       "    <tr>\n",
       "      <th>0</th>\n",
       "      <td>Had a discussion about this the other night  Nonsensical that plant based alternatives are always more</td>\n",
       "      <td>(  , Had, a, discussion, about, this, the, other, night,  , Nonsensical, that, plant, based, alternatives, are, always, more,   )</td>\n",
       "    </tr>\n",
       "    <tr>\n",
       "      <th>1</th>\n",
       "      <td>BYND And Impossible Foods Helped Save Nearly 1 Million Animals In The US Last Year   Plant Based News</td>\n",
       "      <td>(BYND, And, Impossible, Foods, Helped, Save, Nearly, 1, Million, Animals, In, The, US, Last, Year,   , Plant, Based, News,  )</td>\n",
       "    </tr>\n",
       "    <tr>\n",
       "      <th>2</th>\n",
       "      <td>As someone who genuinely loves  fake meat  and especially Beyond Burgers  how could they do this to me</td>\n",
       "      <td>(As, someone, who, genuinely, loves,  , fake, meat,  , and, especially, Beyond, Burgers,  , how, could, they, do, this, to, me)</td>\n",
       "    </tr>\n",
       "    <tr>\n",
       "      <th>3</th>\n",
       "      <td>Purcell BYND says hold my beer</td>\n",
       "      <td>(      , Purcell, BYND, says, hold, my, beer,     )</td>\n",
       "    </tr>\n",
       "    <tr>\n",
       "      <th>4</th>\n",
       "      <td>Only decent vegan meat comes from Asian Buddhist places that what they ve been doing for centuries  I ve tried crap</td>\n",
       "      <td>(Only, decent, vegan, meat, comes, from, Asian, Buddhist, places, that, what, they, ve, been, doing, for, centuries,  , I, ve, tried, crap,   )</td>\n",
       "    </tr>\n",
       "    <tr>\n",
       "      <th>5</th>\n",
       "      <td>Mika s favorite dish is meat loaf  preferably with scratch cooked mashed potatoes and rolls   Her ta</td>\n",
       "      <td>(  , Mika, s, favorite, dish, is, meat, loaf,  , preferably, with, scratch, cooked, mashed, potatoes, and, rolls,   , Her, ta,   )</td>\n",
       "    </tr>\n",
       "    <tr>\n",
       "      <th>6</th>\n",
       "      <td>Bet they have lots of BYND</td>\n",
       "      <td>(  , Bet, they, have, lots, of, BYND,  )</td>\n",
       "    </tr>\n",
       "    <tr>\n",
       "      <th>7</th>\n",
       "      <td>Made dinner w BYND w them</td>\n",
       "      <td>(Made, dinner, w, BYND, w, them,    )</td>\n",
       "    </tr>\n",
       "    <tr>\n",
       "      <th>8</th>\n",
       "      <td>i ve tried the kfc BYND nuggets  pretty mid 6 10</td>\n",
       "      <td>(i, ve, tried, the, kfc, BYND, nuggets,  , pretty, mid, 6, 10)</td>\n",
       "    </tr>\n",
       "    <tr>\n",
       "      <th>9</th>\n",
       "      <td>scared to purchase the kfc BYND chicken in fear of the cashier laughing at me in response</td>\n",
       "      <td>(scared, to, purchase, the, kfc, BYND, chicken, in, fear, of, the, cashier, laughing, at, me, in, response)</td>\n",
       "    </tr>\n",
       "  </tbody>\n",
       "</table>\n",
       "</div>"
      ],
      "text/plain": [
       "                                                                                                                        0  \\\n",
       "0               Had a discussion about this the other night  Nonsensical that plant based alternatives are always more      \n",
       "1                 BYND And Impossible Foods Helped Save Nearly 1 Million Animals In The US Last Year   Plant Based News     \n",
       "2                 As someone who genuinely loves  fake meat  and especially Beyond Burgers  how could they do this to me    \n",
       "3                                                                                     Purcell BYND says hold my beer        \n",
       "4  Only decent vegan meat comes from Asian Buddhist places that what they ve been doing for centuries  I ve tried crap      \n",
       "5                 Mika s favorite dish is meat loaf  preferably with scratch cooked mashed potatoes and rolls   Her ta      \n",
       "6                                                                                            Bet they have lots of BYND     \n",
       "7                                                                                           Made dinner w BYND w them       \n",
       "8                                                                        i ve tried the kfc BYND nuggets  pretty mid 6 10   \n",
       "9                               scared to purchase the kfc BYND chicken in fear of the cashier laughing at me in response   \n",
       "\n",
       "                                                                                                                                         spacy_doc  \n",
       "0                (  , Had, a, discussion, about, this, the, other, night,  , Nonsensical, that, plant, based, alternatives, are, always, more,   )  \n",
       "1                    (BYND, And, Impossible, Foods, Helped, Save, Nearly, 1, Million, Animals, In, The, US, Last, Year,   , Plant, Based, News,  )  \n",
       "2                  (As, someone, who, genuinely, loves,  , fake, meat,  , and, especially, Beyond, Burgers,  , how, could, they, do, this, to, me)  \n",
       "3                                                                                              (      , Purcell, BYND, says, hold, my, beer,     )  \n",
       "4  (Only, decent, vegan, meat, comes, from, Asian, Buddhist, places, that, what, they, ve, been, doing, for, centuries,  , I, ve, tried, crap,   )  \n",
       "5               (  , Mika, s, favorite, dish, is, meat, loaf,  , preferably, with, scratch, cooked, mashed, potatoes, and, rolls,   , Her, ta,   )  \n",
       "6                                                                                                         (  , Bet, they, have, lots, of, BYND,  )  \n",
       "7                                                                                                            (Made, dinner, w, BYND, w, them,    )  \n",
       "8                                                                                   (i, ve, tried, the, kfc, BYND, nuggets,  , pretty, mid, 6, 10)  \n",
       "9                                      (scared, to, purchase, the, kfc, BYND, chicken, in, fear, of, the, cashier, laughing, at, me, in, response)  "
      ]
     },
     "execution_count": 145,
     "metadata": {},
     "output_type": "execute_result"
    }
   ],
   "source": [
    "cln_docs = list(nlp.pipe(bynd_meat_twt[\"0\"]))\n",
    "\n",
    "bynd_meat_twt['spacy_doc'] = cln_docs\n",
    "bynd_meat_twt.head(10)\n"
   ]
  },
  {
   "cell_type": "code",
   "execution_count": 154,
   "metadata": {},
   "outputs": [],
   "source": [
    "#Lets clean the piped spacy_doc\n",
    "docs_clean_1 = [[w.lemma_.lower() for w in doc if (not w.is_stop and not w.is_punct and not w.like_num) \\\n",
    "               or (w.lemma_=='not')] for doc in cln_docs]\n",
    "bynd_meat_twt['docs_clean_1'] = docs_clean_1\n"
   ]
  },
  {
   "cell_type": "code",
   "execution_count": 146,
   "metadata": {
    "scrolled": true
   },
   "outputs": [
    {
     "name": "stdout",
     "output_type": "stream",
     "text": [
      "Collecting corextopic\n",
      "  Downloading corextopic-1.1-py3-none-any.whl (27 kB)\n",
      "Installing collected packages: corextopic\n",
      "Successfully installed corextopic-1.1\n",
      "Requirement already satisfied: networkx in /opt/anaconda3/lib/python3.8/site-packages (2.5)\n",
      "Requirement already satisfied: decorator>=4.3.0 in /opt/anaconda3/lib/python3.8/site-packages (from networkx) (4.4.2)\n"
     ]
    }
   ],
   "source": [
    "# Install CorEx \n",
    "!pip install corextopic\n",
    "!pip install networkx"
   ]
  },
  {
   "cell_type": "code",
   "execution_count": 155,
   "metadata": {},
   "outputs": [],
   "source": [
    "bynd_meat_twt.head(5)\n",
    "docs_list_clean = [' '.join(doc) for doc in docs_clean_1]\n",
    "bynd_meat_twt['docs_list_clean'] = docs_list_clean\n"
   ]
  },
  {
   "cell_type": "code",
   "execution_count": 190,
   "metadata": {},
   "outputs": [],
   "source": [
    "# Import other packages for examples\n",
    "import pandas as pd\n",
    "import numpy as np\n",
    "import scipy.sparse as ss\n",
    "\n",
    "from sklearn.feature_extraction.text import CountVectorizer\n",
    "from sklearn import datasets\n",
    "\n",
    "from corextopic import corextopic as ct\n",
    "from corextopic import vis_topic as vt\n",
    "\n",
    "import matplotlib.pyplot as plt\n",
    "import seaborn as sns\n",
    "%matplotlib inline"
   ]
  },
  {
   "cell_type": "code",
   "execution_count": 156,
   "metadata": {},
   "outputs": [],
   "source": [
    "vectorizer = CountVectorizer(max_features=2500,\n",
    "                             stop_words='english', \n",
    "                             token_pattern=\"\\\\b[a-z][a-z]+\\\\b\",\n",
    "                             binary=True)\n",
    "\n",
    "doc_word = vectorizer.fit_transform(bynd_meat_twt.docs_list_clean)\n",
    "words = list(np.asarray(vectorizer.get_feature_names()))"
   ]
  },
  {
   "cell_type": "code",
   "execution_count": 157,
   "metadata": {
    "scrolled": true
   },
   "outputs": [
    {
     "data": {
      "text/plain": [
       "(2812, 2500)"
      ]
     },
     "execution_count": 157,
     "metadata": {},
     "output_type": "execute_result"
    }
   ],
   "source": [
    "doc_word.shape"
   ]
  },
  {
   "cell_type": "code",
   "execution_count": 162,
   "metadata": {},
   "outputs": [
    {
     "data": {
      "text/plain": [
       "['able',\n",
       " 'absolutely',\n",
       " 'abuse',\n",
       " 'accept',\n",
       " 'acceptable',\n",
       " 'accompany',\n",
       " 'accord',\n",
       " 'account',\n",
       " 'act',\n",
       " 'action',\n",
       " 'actual',\n",
       " 'actually',\n",
       " 'ad',\n",
       " 'add',\n",
       " 'address',\n",
       " 'adjust',\n",
       " 'adopt',\n",
       " 'advert',\n",
       " 'advertise',\n",
       " 'advertising']"
      ]
     },
     "execution_count": 162,
     "metadata": {},
     "output_type": "execute_result"
    }
   ],
   "source": [
    "words[:20]"
   ]
  },
  {
   "cell_type": "code",
   "execution_count": 158,
   "metadata": {},
   "outputs": [],
   "source": [
    "topic_model = ct.Corex(n_hidden= 10, ### YOUR NUMBER OF TOPICS HERE\n",
    "                       words=words,  ### YOUR VOCABULARY HERE\n",
    "                       seed=1\n",
    "                       )\n",
    "\n",
    "topic_model.fit(doc_word,          ### YOUR DOCUMENT TERM MATRIX HERE\n",
    "                words= words,      ### YOUR VOCABULARY HERE\n",
    "                docs= bynd_meat_twt.docs_list_clean  ### YOUR DOCUMENT SERIES HERE\n",
    "                );\n"
   ]
  },
  {
   "cell_type": "code",
   "execution_count": 159,
   "metadata": {},
   "outputs": [
    {
     "name": "stdout",
     "output_type": "stream",
     "text": [
      "0: short, seller, stock, shorted, tuck, company, russell, pile, index, bears\n",
      "1: kfc, chicken, nugget, fry, fried, nuggets, nationwide, new, review, wing\n",
      "2: foods, save, animals, year, impossible, nfts, sea, laundering, circlejerks, prediction\n",
      "3: meat, bynd, fake, substitute, red, industry, use, alternative, diet, oil\n",
      "4: plant, base, based, launch, current, volume, partner, directionally, bullish, benefit\n",
      "5: nearly, help, jerky, pepsico, news, venture, joint, reportedly, locations, old\n",
      "6: pizza, hut, sponsor, add, exclusive, sausage, italian, sauce, star, instead\n",
      "7: fast, food, green, bean, black, soylent, cook, place, meal, spot\n",
      "8: like, eat, don, look, want, shit, bad, feel, try, know\n",
      "9: store, free, hear, uk, item, permanent, restaurant, friend, offer, pizzahut\n"
     ]
    }
   ],
   "source": [
    "topics = topic_model.get_topics()\n",
    "for n,topic in enumerate(topics):\n",
    "    topic_words,_,_ = zip(*topic)\n",
    "    print(f'{n}: {\", \".join(topic_words)}')"
   ]
  },
  {
   "cell_type": "code",
   "execution_count": 175,
   "metadata": {},
   "outputs": [],
   "source": [
    "topic_model = ct.Corex(n_hidden= 7, ### YOUR NUMBER OF TOPICS HERE\n",
    "                       words=words,  ### YOUR VOCABULARY HERE\n",
    "                       seed=1\n",
    "                       )\n",
    "\n",
    "topic_model.fit(doc_word,          ### YOUR DOCUMENT TERM MATRIX HERE\n",
    "                words= words,      ### YOUR VOCABULARY HERE\n",
    "                docs= bynd_meat_twt.docs_list_clean,  ### YOUR DOCUMENT SERIES HERE\n",
    "                anchors=[\n",
    "                         ['news', 'stock', \"index\",\"bullish\"],\n",
    "                         ['kfc', 'chicken', 'nugget', \"new\"],\n",
    "                         ['review', 'bad', 'like', 'try', \"feel\"],\n",
    "                         ['foods', 'save', 'animals', 'plant'],\n",
    "                         ['pizzahut', 'pizzahut', 'pizza', 'hut']\n",
    "                ],                  ### YOUR ANCHORS HERE\n",
    "                anchor_strength=5   ### YOUR ANCHOR STRENGTH HERE\n",
    "                );"
   ]
  },
  {
   "cell_type": "code",
   "execution_count": 176,
   "metadata": {},
   "outputs": [
    {
     "name": "stdout",
     "output_type": "stream",
     "text": [
      "0: stock, news, index, russell, shorted, bullish, short, pile, company, bears\n",
      "1: kfc, chicken, nugget, new, fried, fry, nuggets, nationwide, locations, nuggie\n",
      "2: like, try, bad, feel, review, taste, look, ve, rubber, eraser\n",
      "3: plant, save, foods, animals, base, based, pepsico, jerky, help, nearly\n",
      "4: pizza, hut, pizzahut, sponsor, exclusive, canadian, add, crumbles, sausage, permanently\n",
      "5: taco, bell, store, sauce, gets, sea, nfts, amp, laundering, prediction\n",
      "6: meat, bynd, fake, seller, substitute, tuck, eat, don, fast, food\n"
     ]
    }
   ],
   "source": [
    "topics = topic_model.get_topics()\n",
    "\n",
    "for n,topic in enumerate(topics):\n",
    "    topic_words,_,_ = zip(*topic)\n",
    "    print(f'{n}: {\", \".join(topic_words)}')"
   ]
  },
  {
   "cell_type": "code",
   "execution_count": 177,
   "metadata": {},
   "outputs": [
    {
     "data": {
      "text/html": [
       "<div>\n",
       "<style scoped>\n",
       "    .dataframe tbody tr th:only-of-type {\n",
       "        vertical-align: middle;\n",
       "    }\n",
       "\n",
       "    .dataframe tbody tr th {\n",
       "        vertical-align: top;\n",
       "    }\n",
       "\n",
       "    .dataframe thead th {\n",
       "        text-align: right;\n",
       "    }\n",
       "</style>\n",
       "<table border=\"1\" class=\"dataframe\">\n",
       "  <thead>\n",
       "    <tr style=\"text-align: right;\">\n",
       "      <th></th>\n",
       "      <th>topic0</th>\n",
       "      <th>topic1</th>\n",
       "      <th>topic2</th>\n",
       "      <th>topic3</th>\n",
       "      <th>topic4</th>\n",
       "      <th>topic5</th>\n",
       "      <th>topic6</th>\n",
       "    </tr>\n",
       "  </thead>\n",
       "  <tbody>\n",
       "    <tr>\n",
       "      <th>0</th>\n",
       "      <td>False</td>\n",
       "      <td>False</td>\n",
       "      <td>False</td>\n",
       "      <td>True</td>\n",
       "      <td>False</td>\n",
       "      <td>False</td>\n",
       "      <td>True</td>\n",
       "    </tr>\n",
       "    <tr>\n",
       "      <th>1</th>\n",
       "      <td>True</td>\n",
       "      <td>False</td>\n",
       "      <td>False</td>\n",
       "      <td>True</td>\n",
       "      <td>False</td>\n",
       "      <td>False</td>\n",
       "      <td>False</td>\n",
       "    </tr>\n",
       "    <tr>\n",
       "      <th>2</th>\n",
       "      <td>False</td>\n",
       "      <td>False</td>\n",
       "      <td>False</td>\n",
       "      <td>False</td>\n",
       "      <td>False</td>\n",
       "      <td>False</td>\n",
       "      <td>True</td>\n",
       "    </tr>\n",
       "    <tr>\n",
       "      <th>3</th>\n",
       "      <td>False</td>\n",
       "      <td>False</td>\n",
       "      <td>False</td>\n",
       "      <td>False</td>\n",
       "      <td>False</td>\n",
       "      <td>False</td>\n",
       "      <td>False</td>\n",
       "    </tr>\n",
       "    <tr>\n",
       "      <th>4</th>\n",
       "      <td>False</td>\n",
       "      <td>False</td>\n",
       "      <td>True</td>\n",
       "      <td>False</td>\n",
       "      <td>False</td>\n",
       "      <td>False</td>\n",
       "      <td>True</td>\n",
       "    </tr>\n",
       "  </tbody>\n",
       "</table>\n",
       "</div>"
      ],
      "text/plain": [
       "   topic0  topic1  topic2  topic3  topic4  topic5  topic6\n",
       "0   False   False   False    True   False   False    True\n",
       "1    True   False   False    True   False   False   False\n",
       "2   False   False   False   False   False   False    True\n",
       "3   False   False   False   False   False   False   False\n",
       "4   False   False    True   False   False   False    True"
      ]
     },
     "execution_count": 177,
     "metadata": {},
     "output_type": "execute_result"
    }
   ],
   "source": [
    "topic_colms = ['topic'+str(i) for i in range(topic_model.labels.shape[1])]\n",
    "\n",
    "predictions = pd.DataFrame(topic_model.labels, columns=topic_colms)\n",
    "predictions.head(5)"
   ]
  },
  {
   "cell_type": "code",
   "execution_count": 178,
   "metadata": {},
   "outputs": [
    {
     "data": {
      "text/plain": [
       "(2812, 7)"
      ]
     },
     "execution_count": 178,
     "metadata": {},
     "output_type": "execute_result"
    }
   ],
   "source": [
    "predictions.shape"
   ]
  },
  {
   "cell_type": "code",
   "execution_count": 179,
   "metadata": {},
   "outputs": [],
   "source": [
    "finance = predictions['topic0'].sum()/len(predictions)\n",
    "kfc_launch = predictions['topic1'].sum()/len(predictions)\n",
    "reviews = predictions['topic2'].sum()/len(predictions)\n",
    "environment = predictions['topic3'].sum()/len(predictions)\n",
    "pizzahut = predictions['topic4'].sum()/len(predictions)\n",
    "mystery = predictions['topic5'].sum()/len(predictions)\n",
    "plnt_bsd_ind = predictions['topic6'].sum()/len(predictions)"
   ]
  },
  {
   "cell_type": "code",
   "execution_count": 180,
   "metadata": {},
   "outputs": [
    {
     "name": "stdout",
     "output_type": "stream",
     "text": [
      "0.08179231863442389 0.20270270270270271 0.1852773826458037 0.11130867709815079 0.0430298719772404 0.18029871977240397 0.36237553342816503\n"
     ]
    }
   ],
   "source": [
    "print(finance, kfc_launch, reviews, environment, pizzahut, mystery, plnt_bsd_ind)"
   ]
  },
  {
   "cell_type": "code",
   "execution_count": 181,
   "metadata": {},
   "outputs": [
    {
     "data": {
      "text/plain": [
       "[('kfc bynd piece food', 0.0),\n",
       " ('livin crazy time    taco bell get wing kfc get bynd   s', 0.0)]"
      ]
     },
     "execution_count": 181,
     "metadata": {},
     "output_type": "execute_result"
    }
   ],
   "source": [
    "topic_model.get_top_docs(topic=1, n_docs=2)"
   ]
  },
  {
   "cell_type": "code",
   "execution_count": 185,
   "metadata": {},
   "outputs": [
    {
     "data": {
      "text/plain": [
       "([<matplotlib.axis.XTick at 0x7fcdc272fa00>,\n",
       "  <matplotlib.axis.XTick at 0x7fcdc272f9d0>,\n",
       "  <matplotlib.axis.XTick at 0x7fcdc2727550>,\n",
       "  <matplotlib.axis.XTick at 0x7fcdc29d65e0>,\n",
       "  <matplotlib.axis.XTick at 0x7fcdc29d6af0>,\n",
       "  <matplotlib.axis.XTick at 0x7fcdc29de040>,\n",
       "  <matplotlib.axis.XTick at 0x7fcdc29de550>],\n",
       " [Text(0, 0, 'finance'),\n",
       "  Text(1, 0, 'kfc_launch'),\n",
       "  Text(2, 0, 'reviews'),\n",
       "  Text(3, 0, 'environment'),\n",
       "  Text(4, 0, 'pizzahut'),\n",
       "  Text(5, 0, 'mystery'),\n",
       "  Text(6, 0, 'plnt_bsd_ind')])"
      ]
     },
     "execution_count": 185,
     "metadata": {},
     "output_type": "execute_result"
    },
    {
     "data": {
      "image/png": "[encoded data removed]",
      "text/plain": [
       "<Figure size 720x504 with 1 Axes>"
      ]
     },
     "metadata": {},
     "output_type": "display_data"
    }
   ],
   "source": [
    "bars = (\"finance\", \"kfc_launch\", \"reviews\", \"environment\", \"pizzahut\", \"mystery\", \"plnt_bsd_ind\")\n",
    "y_pos = range(topic_model.tcs.shape[0])\n",
    "plt.figure(figsize=(10,7))\n",
    "plt.bar(range(topic_model.tcs.shape[0]), topic_model.tcs, color='green', width=0.5)\n",
    "plt.xlabel('Topic', fontsize=16)\n",
    "plt.ylabel('Total Correlation (nats)', fontsize=16);\n",
    "plt.xticks(y_pos, bars, color='orange', rotation=45, fontweight='bold', fontsize='17', horizontalalignment='right')\n"
   ]
  },
  {
   "cell_type": "code",
   "execution_count": 193,
   "metadata": {},
   "outputs": [],
   "source": [
    "import scattertext as st"
   ]
  },
  {
   "cell_type": "code",
   "execution_count": 194,
   "metadata": {},
   "outputs": [
    {
     "data": {
      "text/html": [
       "<div>\n",
       "<style scoped>\n",
       "    .dataframe tbody tr th:only-of-type {\n",
       "        vertical-align: middle;\n",
       "    }\n",
       "\n",
       "    .dataframe tbody tr th {\n",
       "        vertical-align: top;\n",
       "    }\n",
       "\n",
       "    .dataframe thead th {\n",
       "        text-align: right;\n",
       "    }\n",
       "</style>\n",
       "<table border=\"1\" class=\"dataframe\">\n",
       "  <thead>\n",
       "    <tr style=\"text-align: right;\">\n",
       "      <th></th>\n",
       "      <th>date</th>\n",
       "      <th>text</th>\n",
       "      <th>number_of_likes</th>\n",
       "      <th>polarity</th>\n",
       "      <th>subjectivity</th>\n",
       "      <th>sentiment</th>\n",
       "      <th>neg</th>\n",
       "      <th>neu</th>\n",
       "      <th>pos</th>\n",
       "      <th>compound</th>\n",
       "      <th>new_text</th>\n",
       "      <th>spacy_doc</th>\n",
       "      <th>docs_clean</th>\n",
       "    </tr>\n",
       "  </thead>\n",
       "  <tbody>\n",
       "    <tr>\n",
       "      <th>0</th>\n",
       "      <td>2022-01-20 06:41:01+00:00</td>\n",
       "      <td>19.1.2022\\n7. KFC\\nFans Joke KFC's New Plant-Based Nuggets Look Like 'Deep-Fried ...\\nhttps://t.co/DjocL4VCyo</td>\n",
       "      <td>0</td>\n",
       "      <td>0.136364</td>\n",
       "      <td>0.454545</td>\n",
       "      <td>positive</td>\n",
       "      <td>0.000</td>\n",
       "      <td>0.719</td>\n",
       "      <td>0.281</td>\n",
       "      <td>0.5719</td>\n",
       "      <td>19 1 2022 7  KFC Fans Joke KFC s New Plant Based nugget Look Like  Deep Fried</td>\n",
       "      <td>(19, 1, 2022, 7,  , KFC, Fans, Joke, KFC, s, New, Plant, Based, nugget, Look, Like,  , Deep, Fried,      )</td>\n",
       "      <td>[ , kfc, fans, joke, kfc, s, new, plant, based, nugget, look, like,  , deep, fried,      ]</td>\n",
       "    </tr>\n",
       "    <tr>\n",
       "      <th>1</th>\n",
       "      <td>2022-01-20 06:32:07+00:00</td>\n",
       "      <td>So... the KFC beyond chicken looks like tofu... and I am borderline obsessed with tofu as someone who still eats me… https://t.co/hZSBsm5I4I</td>\n",
       "      <td>1</td>\n",
       "      <td>-0.550000</td>\n",
       "      <td>0.975000</td>\n",
       "      <td>positive</td>\n",
       "      <td>0.073</td>\n",
       "      <td>0.819</td>\n",
       "      <td>0.108</td>\n",
       "      <td>0.2023</td>\n",
       "      <td>So    the KFC BYND chicken looks like tofu    and I am borderline obsessed with tofu as someone who still eats me</td>\n",
       "      <td>(So,    , the, KFC, BYND, chicken, looks, like, tofu,    , and, I, am, borderline, obsessed, with, tofu, as, someone, who, still, eats, me,   )</td>\n",
       "      <td>[   , kfc, bynd, chicken, look, like, tofu,    , borderline, obsess, tofu, eat,   ]</td>\n",
       "    </tr>\n",
       "    <tr>\n",
       "      <th>2</th>\n",
       "      <td>2022-01-20 06:29:01+00:00</td>\n",
       "      <td>KFC takes plant-based chicken from Beyond Meat nationwide - CNET: #DeepLearning #IoT #BigData MT: @MikeQuindazzi… https://t.co/UtzqnX39XE</td>\n",
       "      <td>0</td>\n",
       "      <td>-0.600000</td>\n",
       "      <td>0.950000</td>\n",
       "      <td>neutral</td>\n",
       "      <td>0.000</td>\n",
       "      <td>1.000</td>\n",
       "      <td>0.000</td>\n",
       "      <td>0.0000</td>\n",
       "      <td>KFC takes plant based chicken from BYND nationwide   CNET   DeepLearning  IoT  BigData MT</td>\n",
       "      <td>(KFC, takes, plant, based, chicken, from, BYND, nationwide,   , CNET,   , DeepLearning,  , IoT,  , BigData, MT,      )</td>\n",
       "      <td>[kfc, take, plant, base, chicken, bynd, nationwide,   , cnet,   , deeplearning,  , iot,  , bigdata, mt,      ]</td>\n",
       "    </tr>\n",
       "    <tr>\n",
       "      <th>3</th>\n",
       "      <td>2022-01-20 03:37:25+00:00</td>\n",
       "      <td>Kfc beyond meat nuggets are hella good (def expensive tho) like legit taste like any other fast food nugget</td>\n",
       "      <td>7</td>\n",
       "      <td>0.068750</td>\n",
       "      <td>0.568750</td>\n",
       "      <td>positive</td>\n",
       "      <td>0.000</td>\n",
       "      <td>0.661</td>\n",
       "      <td>0.339</td>\n",
       "      <td>0.8016</td>\n",
       "      <td>Kfc BYND nugget are hella good  def expensive tho  like legit taste like any other fast food nugget</td>\n",
       "      <td>(Kfc, BYND, nugget, are, hella, good,  , def, expensive, tho,  , like, legit, taste, like, any, other, fast, food, nugget)</td>\n",
       "      <td>[kfc, bynd, nugget, hella, good,  , def, expensive, tho,  , like, legit, taste, like, fast, food, nugget]</td>\n",
       "    </tr>\n",
       "    <tr>\n",
       "      <th>4</th>\n",
       "      <td>2022-01-20 02:42:00+00:00</td>\n",
       "      <td>\"It’s a Kentucky Fried Miracle,\" writes CJN Columnist Regina Brett. \"At least that’s what KFC and Beyond Meat are s… https://t.co/T2M9UaFeNP</td>\n",
       "      <td>1</td>\n",
       "      <td>-0.300000</td>\n",
       "      <td>0.400000</td>\n",
       "      <td>neutral</td>\n",
       "      <td>0.000</td>\n",
       "      <td>1.000</td>\n",
       "      <td>0.000</td>\n",
       "      <td>0.0000</td>\n",
       "      <td>It s a Kentucky Fried Miracle   writes CJN Columnist Regina Brett   At least that s what KFC and BYND are s</td>\n",
       "      <td>( , It, s, a, Kentucky, Fried, Miracle,   , writes, CJN, Columnist, Regina, Brett,   , At, least, that, s, what, KFC, and, BYND, are, s,   )</td>\n",
       "      <td>[ , s, kentucky, fried, miracle,   , write, cjn, columnist, regina, brett,   , s, kfc, bynd, s,   ]</td>\n",
       "    </tr>\n",
       "  </tbody>\n",
       "</table>\n",
       "</div>"
      ],
      "text/plain": [
       "                        date  \\\n",
       "0  2022-01-20 06:41:01+00:00   \n",
       "1  2022-01-20 06:32:07+00:00   \n",
       "2  2022-01-20 06:29:01+00:00   \n",
       "3  2022-01-20 03:37:25+00:00   \n",
       "4  2022-01-20 02:42:00+00:00   \n",
       "\n",
       "                                                                                                                                           text  \\\n",
       "0                                 19.1.2022\\n7. KFC\\nFans Joke KFC's New Plant-Based Nuggets Look Like 'Deep-Fried ...\\nhttps://t.co/DjocL4VCyo   \n",
       "1  So... the KFC beyond chicken looks like tofu... and I am borderline obsessed with tofu as someone who still eats me… https://t.co/hZSBsm5I4I   \n",
       "2     KFC takes plant-based chicken from Beyond Meat nationwide - CNET: #DeepLearning #IoT #BigData MT: @MikeQuindazzi… https://t.co/UtzqnX39XE   \n",
       "3                                   Kfc beyond meat nuggets are hella good (def expensive tho) like legit taste like any other fast food nugget   \n",
       "4  \"It’s a Kentucky Fried Miracle,\" writes CJN Columnist Regina Brett. \"At least that’s what KFC and Beyond Meat are s… https://t.co/T2M9UaFeNP   \n",
       "\n",
       "   number_of_likes  polarity  subjectivity sentiment    neg    neu    pos  \\\n",
       "0                0  0.136364      0.454545  positive  0.000  0.719  0.281   \n",
       "1                1 -0.550000      0.975000  positive  0.073  0.819  0.108   \n",
       "2                0 -0.600000      0.950000   neutral  0.000  1.000  0.000   \n",
       "3                7  0.068750      0.568750  positive  0.000  0.661  0.339   \n",
       "4                1 -0.300000      0.400000   neutral  0.000  1.000  0.000   \n",
       "\n",
       "   compound  \\\n",
       "0    0.5719   \n",
       "1    0.2023   \n",
       "2    0.0000   \n",
       "3    0.8016   \n",
       "4    0.0000   \n",
       "\n",
       "                                                                                                               new_text  \\\n",
       "0                                   19 1 2022 7  KFC Fans Joke KFC s New Plant Based nugget Look Like  Deep Fried         \n",
       "1  So    the KFC BYND chicken looks like tofu    and I am borderline obsessed with tofu as someone who still eats me      \n",
       "2                       KFC takes plant based chicken from BYND nationwide   CNET   DeepLearning  IoT  BigData MT         \n",
       "3                   Kfc BYND nugget are hella good  def expensive tho  like legit taste like any other fast food nugget   \n",
       "4        It s a Kentucky Fried Miracle   writes CJN Columnist Regina Brett   At least that s what KFC and BYND are s      \n",
       "\n",
       "                                                                                                                                         spacy_doc  \\\n",
       "0                                       (19, 1, 2022, 7,  , KFC, Fans, Joke, KFC, s, New, Plant, Based, nugget, Look, Like,  , Deep, Fried,      )   \n",
       "1  (So,    , the, KFC, BYND, chicken, looks, like, tofu,    , and, I, am, borderline, obsessed, with, tofu, as, someone, who, still, eats, me,   )   \n",
       "2                           (KFC, takes, plant, based, chicken, from, BYND, nationwide,   , CNET,   , DeepLearning,  , IoT,  , BigData, MT,      )   \n",
       "3                       (Kfc, BYND, nugget, are, hella, good,  , def, expensive, tho,  , like, legit, taste, like, any, other, fast, food, nugget)   \n",
       "4     ( , It, s, a, Kentucky, Fried, Miracle,   , writes, CJN, Columnist, Regina, Brett,   , At, least, that, s, what, KFC, and, BYND, are, s,   )   \n",
       "\n",
       "                                                                                                       docs_clean  \n",
       "0                      [ , kfc, fans, joke, kfc, s, new, plant, based, nugget, look, like,  , deep, fried,      ]  \n",
       "1                             [   , kfc, bynd, chicken, look, like, tofu,    , borderline, obsess, tofu, eat,   ]  \n",
       "2  [kfc, take, plant, base, chicken, bynd, nationwide,   , cnet,   , deeplearning,  , iot,  , bigdata, mt,      ]  \n",
       "3       [kfc, bynd, nugget, hella, good,  , def, expensive, tho,  , like, legit, taste, like, fast, food, nugget]  \n",
       "4             [ , s, kentucky, fried, miracle,   , write, cjn, columnist, regina, brett,   , s, kfc, bynd, s,   ]  "
      ]
     },
     "execution_count": 194,
     "metadata": {},
     "output_type": "execute_result"
    }
   ],
   "source": [
    "tots_twts_sents.head(5)"
   ]
  },
  {
   "cell_type": "code",
   "execution_count": 195,
   "metadata": {},
   "outputs": [],
   "source": [
    "corpus = st.CorpusFromPandas(tots_twts_sents,\n",
    "                             category_col='sentiment',\n",
    "                             text_col='new_text',\n",
    "                             nlp=st.whitespace_nlp_with_sentences\n",
    "                            ).build()"
   ]
  },
  {
   "cell_type": "code",
   "execution_count": 196,
   "metadata": {},
   "outputs": [],
   "source": [
    "html = st.produce_scattertext_explorer(\n",
    "        corpus,\n",
    "        category='negative',\n",
    "        category_name='Negative',\n",
    "        not_category_name='Positive',\n",
    "        minimum_term_frequency=10,\n",
    "        pmi_threshold_coefficient=5,\n",
    "        width_in_pixels=1000,\n",
    "        metadata=tots_twts_sents['number_of_likes'],\n",
    "        )"
   ]
  },
  {
   "cell_type": "code",
   "execution_count": 197,
   "metadata": {},
   "outputs": [],
   "source": [
    "open('Beyond.html', 'wb').write(html.encode('utf-8'));"
   ]
  },
  {
   "cell_type": "code",
   "execution_count": null,
   "metadata": {},
   "outputs": [],
   "source": []
  }
 ],
 "metadata": {
  "kernelspec": {
   "display_name": "Python 3",
   "language": "python",
   "name": "python3"
  },
  "language_info": {
   "codemirror_mode": {
    "name": "ipython",
    "version": 3
   },
   "file_extension": ".py",
   "mimetype": "text/x-python",
   "name": "python",
   "nbconvert_exporter": "python",
   "pygments_lexer": "ipython3",
   "version": "3.8.5"
  }
 },
 "nbformat": 4,
 "nbformat_minor": 4
}
