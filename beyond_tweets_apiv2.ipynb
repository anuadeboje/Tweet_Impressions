{
 "cells": [
  {
   "cell_type": "code",
   "execution_count": 3,
   "metadata": {},
   "outputs": [
    {
     "name": "stdout",
     "output_type": "stream",
     "text": [
      "Requirement already satisfied: textblob in /opt/anaconda3/lib/python3.8/site-packages (0.17.1)\n",
      "Requirement already satisfied: nltk>=3.1; python_version >= \"3\" in /opt/anaconda3/lib/python3.8/site-packages (from textblob) (3.5)\n",
      "Requirement already satisfied: regex in /opt/anaconda3/lib/python3.8/site-packages (from nltk>=3.1; python_version >= \"3\"->textblob) (2020.10.15)\n",
      "Requirement already satisfied: joblib in /opt/anaconda3/lib/python3.8/site-packages (from nltk>=3.1; python_version >= \"3\"->textblob) (0.17.0)\n",
      "Requirement already satisfied: tqdm in /opt/anaconda3/lib/python3.8/site-packages (from nltk>=3.1; python_version >= \"3\"->textblob) (4.62.3)\n",
      "Requirement already satisfied: click in /opt/anaconda3/lib/python3.8/site-packages (from nltk>=3.1; python_version >= \"3\"->textblob) (7.1.2)\n",
      "Requirement already satisfied: tweepy in /opt/anaconda3/lib/python3.8/site-packages (4.4.0)\n",
      "Requirement already satisfied: requests<3,>=2.11.1 in /opt/anaconda3/lib/python3.8/site-packages (from tweepy) (2.24.0)\n",
      "Requirement already satisfied: requests-oauthlib<2,>=1.0.0 in /opt/anaconda3/lib/python3.8/site-packages (from tweepy) (1.3.0)\n",
      "Requirement already satisfied: chardet<4,>=3.0.2 in /opt/anaconda3/lib/python3.8/site-packages (from requests<3,>=2.11.1->tweepy) (3.0.4)\n",
      "Requirement already satisfied: idna<3,>=2.5 in /opt/anaconda3/lib/python3.8/site-packages (from requests<3,>=2.11.1->tweepy) (2.10)\n",
      "Requirement already satisfied: urllib3!=1.25.0,!=1.25.1,<1.26,>=1.21.1 in /opt/anaconda3/lib/python3.8/site-packages (from requests<3,>=2.11.1->tweepy) (1.25.11)\n",
      "Requirement already satisfied: certifi>=2017.4.17 in /opt/anaconda3/lib/python3.8/site-packages (from requests<3,>=2.11.1->tweepy) (2020.6.20)\n",
      "Requirement already satisfied: oauthlib>=3.0.0 in /opt/anaconda3/lib/python3.8/site-packages (from requests-oauthlib<2,>=1.0.0->tweepy) (3.1.1)\n"
     ]
    }
   ],
   "source": [
    "# Install Libraries\n",
    "!pip install textblob\n",
    "!pip install tweepy"
   ]
  },
  {
   "cell_type": "code",
   "execution_count": 4,
   "metadata": {},
   "outputs": [],
   "source": [
    "# Import Libraries\n",
    "from textblob import TextBlob\n",
    "import sys\n",
    "import tweepy\n",
    "import matplotlib.pyplot as plt\n",
    "import pandas as pd\n",
    "import numpy as np\n",
    "import os\n",
    "import nltk\n",
    "import re\n",
    "import string\n",
    "#from WordCloud import WordCloud, STOPWORDS\n",
    "from PIL import Image\n",
    "from nltk.sentiment.vader import SentimentIntensityAnalyzer\n",
    "#from langdetect import detect\n",
    "from nltk.stem import SnowballStemmer\n",
    "from nltk.sentiment.vader import SentimentIntensityAnalyzer\n",
    "from sklearn.feature_extraction.text import CountVectorizer\n"
   ]
  },
  {
   "cell_type": "code",
   "execution_count": 5,
   "metadata": {},
   "outputs": [],
   "source": [
    "import config\n",
    "import json\n",
    "from tweepy import OAuthHandler\n",
    "from tweepy import Cursor"
   ]
  },
  {
   "cell_type": "code",
   "execution_count": 54,
   "metadata": {},
   "outputs": [],
   "source": [
    "# Define the search term and the desired number of tweets\n",
    "query_1 = \"Beyond+Meat+kfc -is:retweet\"\n",
    "query_2 = \"Beyond+Meat -is:retweet\"\n",
    "max_tweets = 100"
   ]
  },
  {
   "cell_type": "code",
   "execution_count": 6,
   "metadata": {},
   "outputs": [],
   "source": [
    "cons_key = config.API_KEY\n",
    "cons_secret = config.API_KEY_SECRET\n",
    "acc_token = config.ACCESS_TOKEN\n",
    "acc_secret = config.ACCESS_TOKEN_SECRET"
   ]
  },
  {
   "cell_type": "code",
   "execution_count": 7,
   "metadata": {},
   "outputs": [],
   "source": [
    "def get_twitter_auth():\n",
    "    \"\"\"\n",
    "    @return:\n",
    "        - the authentification to Twitter\n",
    "    \"\"\"\n",
    "    try:\n",
    "        consumer_key = cons_key\n",
    "        consumer_secret = cons_secret\n",
    "        access_token = acc_token\n",
    "        access_secret = acc_secret\n",
    "        \n",
    "    except KeyError:\n",
    "        sys.stderr.write(\"Twitter Environment Variable not Set\\n\")\n",
    "        sys.exit(1)\n",
    "        \n",
    "    auth = tweepy.OAuthHandler(consumer_key, consumer_secret)\n",
    "    auth.set_access_token(access_token, access_secret)\n",
    "    \n",
    "    return auth"
   ]
  },
  {
   "cell_type": "code",
   "execution_count": 8,
   "metadata": {},
   "outputs": [],
   "source": [
    "def get_twitter_client():\n",
    "    \"\"\"\n",
    "    @return:\n",
    "        - the client to access the authentification API\n",
    "    \"\"\"\n",
    "    auth = get_twitter_auth()\n",
    "    client = tweepy.API(auth, wait_on_rate_limit=True)\n",
    "    return client"
   ]
  },
  {
   "cell_type": "code",
   "execution_count": 9,
   "metadata": {},
   "outputs": [],
   "source": [
    "def get_tweets_from_query(query, page_limit=16, count_tweet=200):\n",
    "    \"\"\"\n",
    "    @params:\n",
    "        - query: search terms\n",
    "        - page_limit: the total number of pages (max=16)\n",
    "        - count_tweet: maximum number to be retrieved from a page\n",
    "        \n",
    "    @return\n",
    "        - all the tweets from the search query\n",
    "    \"\"\"\n",
    "    client = get_twitter_client()\n",
    "    \n",
    "    all_tweets = []\n",
    "    \n",
    "    for page in Cursor(client.search_tweets, q=query, lang=\"en\", \n",
    "                        count=count_tweet).pages(page_limit):\n",
    "        for tweet in page:\n",
    "            parsed_tweet = {}\n",
    "            parsed_tweet['date'] = tweet.created_at\n",
    "            parsed_tweet['text'] = tweet.text\n",
    "            parsed_tweet['number_of_likes'] = tweet.favorite_count\n",
    "                \n",
    "            all_tweets.append(parsed_tweet)\n",
    "    \n",
    "    # Create dataframe \n",
    "    df = pd.DataFrame(all_tweets)\n",
    "    \n",
    "    # Revome duplicates if there are any\n",
    "    df = df.drop_duplicates( \"text\" , keep='first')\n",
    "    \n",
    "    return df"
   ]
  },
  {
   "cell_type": "code",
   "execution_count": 51,
   "metadata": {},
   "outputs": [],
   "source": [
    "beyond_tweets_1 = get_tweets_from_query(query_1)"
   ]
  },
  {
   "cell_type": "code",
   "execution_count": 58,
   "metadata": {},
   "outputs": [],
   "source": [
    "beyond_tweets_1.to_csv('beyond_tweets_1.csv', index=False)"
   ]
  },
  {
   "cell_type": "code",
   "execution_count": 53,
   "metadata": {},
   "outputs": [
    {
     "data": {
      "text/html": [
       "<div>\n",
       "<style scoped>\n",
       "    .dataframe tbody tr th:only-of-type {\n",
       "        vertical-align: middle;\n",
       "    }\n",
       "\n",
       "    .dataframe tbody tr th {\n",
       "        vertical-align: top;\n",
       "    }\n",
       "\n",
       "    .dataframe thead th {\n",
       "        text-align: right;\n",
       "    }\n",
       "</style>\n",
       "<table border=\"1\" class=\"dataframe\">\n",
       "  <thead>\n",
       "    <tr style=\"text-align: right;\">\n",
       "      <th></th>\n",
       "      <th>date</th>\n",
       "      <th>text</th>\n",
       "      <th>number_of_likes</th>\n",
       "    </tr>\n",
       "  </thead>\n",
       "  <tbody>\n",
       "    <tr>\n",
       "      <th>0</th>\n",
       "      <td>2022-01-20 06:41:01+00:00</td>\n",
       "      <td>19.1.2022\\n7. KFC\\nFans Joke KFC's New Plant-B...</td>\n",
       "      <td>0</td>\n",
       "    </tr>\n",
       "    <tr>\n",
       "      <th>1</th>\n",
       "      <td>2022-01-20 06:32:07+00:00</td>\n",
       "      <td>So... the KFC beyond chicken looks like tofu.....</td>\n",
       "      <td>1</td>\n",
       "    </tr>\n",
       "    <tr>\n",
       "      <th>2</th>\n",
       "      <td>2022-01-20 06:29:01+00:00</td>\n",
       "      <td>KFC takes plant-based chicken from Beyond Meat...</td>\n",
       "      <td>0</td>\n",
       "    </tr>\n",
       "    <tr>\n",
       "      <th>3</th>\n",
       "      <td>2022-01-20 03:37:25+00:00</td>\n",
       "      <td>Kfc beyond meat nuggets are hella good (def ex...</td>\n",
       "      <td>7</td>\n",
       "    </tr>\n",
       "    <tr>\n",
       "      <th>4</th>\n",
       "      <td>2022-01-20 02:42:00+00:00</td>\n",
       "      <td>\"It’s a Kentucky Fried Miracle,\" writes CJN Co...</td>\n",
       "      <td>1</td>\n",
       "    </tr>\n",
       "    <tr>\n",
       "      <th>5</th>\n",
       "      <td>2022-01-20 02:38:47+00:00</td>\n",
       "      <td>jumping to shit on any beyond meat alternative...</td>\n",
       "      <td>5</td>\n",
       "    </tr>\n",
       "    <tr>\n",
       "      <th>6</th>\n",
       "      <td>2022-01-20 02:18:11+00:00</td>\n",
       "      <td>RT @veganpoIice: Tried the Beyond fried chicke...</td>\n",
       "      <td>0</td>\n",
       "    </tr>\n",
       "    <tr>\n",
       "      <th>7</th>\n",
       "      <td>2022-01-20 01:20:32+00:00</td>\n",
       "      <td>i’ve tried the kfc beyond meat nuggets. pretty...</td>\n",
       "      <td>1</td>\n",
       "    </tr>\n",
       "    <tr>\n",
       "      <th>8</th>\n",
       "      <td>2022-01-20 01:20:07+00:00</td>\n",
       "      <td>scared to purchase the kfc beyond meat chicken...</td>\n",
       "      <td>24</td>\n",
       "    </tr>\n",
       "    <tr>\n",
       "      <th>9</th>\n",
       "      <td>2022-01-20 00:41:05+00:00</td>\n",
       "      <td>RT @x_tsunayoshi: @LaraNeville @YAVTweets @All...</td>\n",
       "      <td>0</td>\n",
       "    </tr>\n",
       "  </tbody>\n",
       "</table>\n",
       "</div>"
      ],
      "text/plain": [
       "                       date  \\\n",
       "0 2022-01-20 06:41:01+00:00   \n",
       "1 2022-01-20 06:32:07+00:00   \n",
       "2 2022-01-20 06:29:01+00:00   \n",
       "3 2022-01-20 03:37:25+00:00   \n",
       "4 2022-01-20 02:42:00+00:00   \n",
       "5 2022-01-20 02:38:47+00:00   \n",
       "6 2022-01-20 02:18:11+00:00   \n",
       "7 2022-01-20 01:20:32+00:00   \n",
       "8 2022-01-20 01:20:07+00:00   \n",
       "9 2022-01-20 00:41:05+00:00   \n",
       "\n",
       "                                                text  number_of_likes  \n",
       "0  19.1.2022\\n7. KFC\\nFans Joke KFC's New Plant-B...                0  \n",
       "1  So... the KFC beyond chicken looks like tofu.....                1  \n",
       "2  KFC takes plant-based chicken from Beyond Meat...                0  \n",
       "3  Kfc beyond meat nuggets are hella good (def ex...                7  \n",
       "4  \"It’s a Kentucky Fried Miracle,\" writes CJN Co...                1  \n",
       "5  jumping to shit on any beyond meat alternative...                5  \n",
       "6  RT @veganpoIice: Tried the Beyond fried chicke...                0  \n",
       "7  i’ve tried the kfc beyond meat nuggets. pretty...                1  \n",
       "8  scared to purchase the kfc beyond meat chicken...               24  \n",
       "9  RT @x_tsunayoshi: @LaraNeville @YAVTweets @All...                0  "
      ]
     },
     "execution_count": 53,
     "metadata": {},
     "output_type": "execute_result"
    }
   ],
   "source": [
    "beyond_tweets_1.head(10)"
   ]
  },
  {
   "cell_type": "code",
   "execution_count": 55,
   "metadata": {},
   "outputs": [],
   "source": [
    "query_3 = \"Beyond+Meat+chicken -filter:retweets\""
   ]
  },
  {
   "cell_type": "code",
   "execution_count": 56,
   "metadata": {},
   "outputs": [],
   "source": [
    "beyond_tweets_3 = get_tweets_from_query(query_3)"
   ]
  },
  {
   "cell_type": "code",
   "execution_count": 59,
   "metadata": {},
   "outputs": [],
   "source": [
    "beyond_tweets_3.to_csv('beyond_tweets_3.csv', index=False)"
   ]
  },
  {
   "cell_type": "code",
   "execution_count": 13,
   "metadata": {},
   "outputs": [],
   "source": [
    "query_4 = \"beyond+fried+chicken OR beyond+plant-based OR beyond+nuggets -filter:retweets\""
   ]
  },
  {
   "cell_type": "code",
   "execution_count": 14,
   "metadata": {
    "scrolled": true
   },
   "outputs": [
    {
     "data": {
      "text/html": [
       "<div>\n",
       "<style scoped>\n",
       "    .dataframe tbody tr th:only-of-type {\n",
       "        vertical-align: middle;\n",
       "    }\n",
       "\n",
       "    .dataframe tbody tr th {\n",
       "        vertical-align: top;\n",
       "    }\n",
       "\n",
       "    .dataframe thead th {\n",
       "        text-align: right;\n",
       "    }\n",
       "</style>\n",
       "<table border=\"1\" class=\"dataframe\">\n",
       "  <thead>\n",
       "    <tr style=\"text-align: right;\">\n",
       "      <th></th>\n",
       "      <th>date</th>\n",
       "      <th>text</th>\n",
       "      <th>number_of_likes</th>\n",
       "    </tr>\n",
       "  </thead>\n",
       "  <tbody>\n",
       "    <tr>\n",
       "      <th>0</th>\n",
       "      <td>2022-01-21 23:16:04+00:00</td>\n",
       "      <td>@TalleyBandz44 I’m bringing some KFC Beyond fr...</td>\n",
       "      <td>0</td>\n",
       "    </tr>\n",
       "    <tr>\n",
       "      <th>1</th>\n",
       "      <td>2022-01-21 23:14:54+00:00</td>\n",
       "      <td>After tasting KFC's new nuggets, I can comfort...</td>\n",
       "      <td>0</td>\n",
       "    </tr>\n",
       "    <tr>\n",
       "      <th>2</th>\n",
       "      <td>2022-01-21 23:12:21+00:00</td>\n",
       "      <td>Alright about to try these Beyond Fried Chicke...</td>\n",
       "      <td>0</td>\n",
       "    </tr>\n",
       "    <tr>\n",
       "      <th>3</th>\n",
       "      <td>2022-01-21 23:10:08+00:00</td>\n",
       "      <td>@kfc wanted to try your beyond nuggets. Ordere...</td>\n",
       "      <td>0</td>\n",
       "    </tr>\n",
       "    <tr>\n",
       "      <th>4</th>\n",
       "      <td>2022-01-21 23:05:48+00:00</td>\n",
       "      <td>@dustinanglin We’ve been doing “Meatless Monda...</td>\n",
       "      <td>0</td>\n",
       "    </tr>\n",
       "  </tbody>\n",
       "</table>\n",
       "</div>"
      ],
      "text/plain": [
       "                       date  \\\n",
       "0 2022-01-21 23:16:04+00:00   \n",
       "1 2022-01-21 23:14:54+00:00   \n",
       "2 2022-01-21 23:12:21+00:00   \n",
       "3 2022-01-21 23:10:08+00:00   \n",
       "4 2022-01-21 23:05:48+00:00   \n",
       "\n",
       "                                                text  number_of_likes  \n",
       "0  @TalleyBandz44 I’m bringing some KFC Beyond fr...                0  \n",
       "1  After tasting KFC's new nuggets, I can comfort...                0  \n",
       "2  Alright about to try these Beyond Fried Chicke...                0  \n",
       "3  @kfc wanted to try your beyond nuggets. Ordere...                0  \n",
       "4  @dustinanglin We’ve been doing “Meatless Monda...                0  "
      ]
     },
     "execution_count": 14,
     "metadata": {},
     "output_type": "execute_result"
    }
   ],
   "source": [
    "beyond_tweets_4 = get_tweets_from_query(query_4)\n"
   ]
  },
  {
   "cell_type": "code",
   "execution_count": 16,
   "metadata": {},
   "outputs": [],
   "source": [
    "beyond_tweets_4.to_csv('beyond_tweets_4.csv', index=False)\n",
    "beyond_tweets_4.to_csv('beyond_tweets_4_t.csv', index=True)"
   ]
  },
  {
   "cell_type": "code",
   "execution_count": 31,
   "metadata": {},
   "outputs": [],
   "source": [
    "client_test = getClient()\n",
    "tweet_list_test = searchTweets(client_test, query_1, max_tweets)\n"
   ]
  },
  {
   "cell_type": "code",
   "execution_count": 34,
   "metadata": {},
   "outputs": [],
   "source": [
    "query_test = \"Beyond+Meat+chicken -is:retweet\""
   ]
  },
  {
   "cell_type": "code",
   "execution_count": 35,
   "metadata": {},
   "outputs": [],
   "source": [
    "tweet_list_test_2 = searchTweets(client_test, query_test, max_tweets)"
   ]
  },
  {
   "cell_type": "code",
   "execution_count": 44,
   "metadata": {
    "scrolled": true
   },
   "outputs": [],
   "source": [
    "#len(tweet_list_test_2)\n",
    "tweet_list_test_2 = pd.DataFrame(tweet_list_test_2)\n",
    "tweet_list_test_2.to_csv('test_tweets_bmc.csv', index=False)"
   ]
  },
  {
   "cell_type": "code",
   "execution_count": 39,
   "metadata": {},
   "outputs": [],
   "source": [
    "query_2 = \"Beyond+Meat+chicken\""
   ]
  },
  {
   "cell_type": "code",
   "execution_count": 42,
   "metadata": {},
   "outputs": [
    {
     "data": {
      "text/plain": [
       "52"
      ]
     },
     "execution_count": 42,
     "metadata": {},
     "output_type": "execute_result"
    }
   ],
   "source": [
    "len(tweets_2)"
   ]
  },
  {
   "cell_type": "code",
   "execution_count": null,
   "metadata": {},
   "outputs": [],
   "source": []
  }
 ],
 "metadata": {
  "kernelspec": {
   "display_name": "Python 3",
   "language": "python",
   "name": "python3"
  },
  "language_info": {
   "codemirror_mode": {
    "name": "ipython",
    "version": 3
   },
   "file_extension": ".py",
   "mimetype": "text/x-python",
   "name": "python",
   "nbconvert_exporter": "python",
   "pygments_lexer": "ipython3",
   "version": "3.8.5"
  }
 },
 "nbformat": 4,
 "nbformat_minor": 4
}
